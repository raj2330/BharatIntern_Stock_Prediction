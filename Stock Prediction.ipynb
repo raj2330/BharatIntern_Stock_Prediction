{
 "cells": [
  {
   "cell_type": "code",
   "execution_count": 1,
   "id": "54db4a60-443b-4635-a20d-9d89c1e316ef",
   "metadata": {},
   "outputs": [],
   "source": [
    "import numpy as np\n",
    "import pandas as pd\n",
    "from sklearn.preprocessing import MinMaxScaler\n",
    "import matplotlib.pyplot as plt\n",
    "\n",
    "import torch\n",
    "import torch.nn as nn\n"
   ]
  },
  {
   "cell_type": "code",
   "execution_count": 2,
   "id": "f0719251-db78-42f3-a37c-b171ad37e8c1",
   "metadata": {},
   "outputs": [],
   "source": [
    "df= pd.read_csv(\"E:\\Data Science Internship\\Bharat Intern\\Stock Prediction/netflix.csv\")\n",
    "closed_prices = df[\"Close\"]"
   ]
  },
  {
   "cell_type": "code",
   "execution_count": 3,
   "id": "3b0de7c7-9d0e-4d11-8225-3b25991ebe77",
   "metadata": {},
   "outputs": [],
   "source": [
    "seq_len = 15"
   ]
  },
  {
   "cell_type": "code",
   "execution_count": 4,
   "id": "1852b124-d9ab-4f48-a9e2-b6082bcd5cfd",
   "metadata": {},
   "outputs": [],
   "source": [
    "mm = MinMaxScaler()\n",
    "scaled_price = mm.fit_transform(np.array(closed_prices)[... , None]).squeeze()"
   ]
  },
  {
   "cell_type": "code",
   "execution_count": 5,
   "id": "5607509d-2d34-4c5b-bb00-728d72a69aac",
   "metadata": {},
   "outputs": [],
   "source": [
    "X=[]\n",
    "Y=[]\n"
   ]
  },
  {
   "cell_type": "code",
   "execution_count": 6,
   "id": "102682c0-55a1-4327-84ed-38bcb0da6ff4",
   "metadata": {},
   "outputs": [],
   "source": [
    "for i in range(len(scaled_price) - seq_len):\n",
    "    X.append(scaled_price[i : i+ seq_len])\n",
    "    Y.append(scaled_price[i+seq_len])"
   ]
  },
  {
   "cell_type": "code",
   "execution_count": 7,
   "id": "e1baa6ed-382a-4c88-a287-9ea6bbc74892",
   "metadata": {},
   "outputs": [],
   "source": [
    "X = np.array(X)[... , None]\n",
    "Y = np.array(Y)[... ,None]\n"
   ]
  },
  {
   "cell_type": "code",
   "execution_count": 8,
   "id": "f17865e8-254e-464f-94f0-555abef21928",
   "metadata": {},
   "outputs": [],
   "source": [
    "train_x = torch.from_numpy(X[:int(0.8*X.shape[0])]).float()\n",
    "train_y = torch.from_numpy(Y[:int(0.8*Y.shape[0])]).float()\n",
    "test_x = torch.from_numpy(X[:int(0.8*X.shape[0])]).float()\n",
    "test_y = torch.from_numpy(Y[:int(0.8*Y.shape[0])]).float()"
   ]
  },
  {
   "cell_type": "code",
   "execution_count": 9,
   "id": "0004349d-c302-495c-b1ec-d2e69e8bd920",
   "metadata": {},
   "outputs": [],
   "source": [
    "class Model(nn.Module):\n",
    "    def __init__(self,input_size,hidden_size):\n",
    "        super().__init__()\n",
    "        self.lstm = nn.LSTM(input_size , hidden_size,batch_first=True)\n",
    "        self.fc=nn.Linear(hidden_size, 1)\n",
    "    def forward(self , x):\n",
    "        output,(hidden,cell)=self.lstm(x)\n",
    "        return self.fc(hidden[-1,:])\n",
    "    "
   ]
  },
  {
   "cell_type": "code",
   "execution_count": 10,
   "id": "38ee7e78-1fcb-499c-b295-62d85742ff7d",
   "metadata": {},
   "outputs": [],
   "source": [
    "model = Model(1,64)\n"
   ]
  },
  {
   "cell_type": "code",
   "execution_count": 11,
   "id": "af54f4ec-26f6-49b8-ac5f-466465ecb24c",
   "metadata": {},
   "outputs": [],
   "source": [
    "optimizer=torch.optim.Adam(model.parameters(), lr=0.001)\n"
   ]
  },
  {
   "cell_type": "code",
   "execution_count": 12,
   "id": "3c2587bc-bd0b-4825-8270-3e591338a7bf",
   "metadata": {},
   "outputs": [],
   "source": [
    "loss_fn = nn.MSELoss()"
   ]
  },
  {
   "cell_type": "code",
   "execution_count": 13,
   "id": "398873a7-86ea-468a-8823-4cd280a9d6f9",
   "metadata": {},
   "outputs": [],
   "source": [
    "num_epochs=100"
   ]
  },
  {
   "cell_type": "code",
   "execution_count": 14,
   "id": "adf663c0-16c9-4026-9e1e-7c1c676348fa",
   "metadata": {},
   "outputs": [
    {
     "name": "stdout",
     "output_type": "stream",
     "text": [
      "10 epoch loss 0.005213267\n",
      "20 epoch loss 0.0054140114\n",
      "30 epoch loss 0.0049155746\n",
      "40 epoch loss 0.0043329806\n",
      "50 epoch loss 0.0040512145\n",
      "60 epoch loss 0.003617469\n",
      "70 epoch loss 0.0031192428\n",
      "80 epoch loss 0.002376412\n",
      "90 epoch loss 0.0010375739\n"
     ]
    }
   ],
   "source": [
    "for epoch in range(num_epochs):\n",
    "    output = model(train_x)\n",
    "    loss=loss_fn(output,train_y)\n",
    "    \n",
    "    optimizer.zero_grad()\n",
    "    loss.backward()\n",
    "    optimizer.step()\n",
    "    \n",
    "    if epoch % 10==0 and epoch !=0:\n",
    "        print(epoch , \"epoch loss\", loss.detach().numpy())\n",
    "\n"
   ]
  },
  {
   "cell_type": "code",
   "execution_count": 15,
   "id": "47c17aff-0cfa-48a0-a0dd-e001916bd960",
   "metadata": {},
   "outputs": [],
   "source": [
    "model.eval()\n",
    "\n",
    "with torch.no_grad():\n",
    "    output=model(test_x)\n",
    "\n"
   ]
  },
  {
   "cell_type": "code",
   "execution_count": 16,
   "id": "27e48936-e027-4fe3-adb1-39cda15adeef",
   "metadata": {},
   "outputs": [],
   "source": [
    "pred=mm.inverse_transform(output.numpy())\n",
    "real=mm.inverse_transform(test_y.numpy())"
   ]
  },
  {
   "cell_type": "code",
   "execution_count": 17,
   "id": "dec04522-040b-46dd-880f-fbc039b58fb2",
   "metadata": {},
   "outputs": [
    {
     "data": {
      "image/png": "[encoded data removed]",
      "text/plain": [
       "<Figure size 640x480 with 1 Axes>"
      ]
     },
     "metadata": {},
     "output_type": "display_data"
    }
   ],
   "source": [
    "plt.plot(pred.squeeze(),color=\"red\",label=\"predicted\")\n",
    "plt.plot(real.squeeze(),color=\"green\",label=\"real\")\n",
    "plt.show()\n",
    "\n"
   ]
  },
  {
   "cell_type": "code",
   "execution_count": null,
   "id": "064e37ed-c2ad-43b4-abfe-6c3149ea12d4",
   "metadata": {},
   "outputs": [],
   "source": []
  }
 ],
 "metadata": {
  "kernelspec": {
   "display_name": "Python 3 (ipykernel)",
   "language": "python",
   "name": "python3"
  },
  "language_info": {
   "codemirror_mode": {
    "name": "ipython",
    "version": 3
   },
   "file_extension": ".py",
   "mimetype": "text/x-python",
   "name": "python",
   "nbconvert_exporter": "python",
   "pygments_lexer": "ipython3",
   "version": "3.11.4"
  }
 },
 "nbformat": 4,
 "nbformat_minor": 5
}
